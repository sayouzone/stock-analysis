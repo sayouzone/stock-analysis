{
  "nbformat": 4,
  "nbformat_minor": 0,
  "metadata": {
    "colab": {
      "provenance": []
    },
    "kernelspec": {
      "name": "python3",
      "display_name": "Python 3"
    },
    "language_info": {
      "name": "python"
    }
  },
  "cells": [
    {
      "cell_type": "code",
      "execution_count": 110,
      "metadata": {
        "id": "zEv6kvdVWYS4"
      },
      "outputs": [],
      "source": [
        "import requests\n",
        "from bs4 import BeautifulSoup\n",
        "\n",
        "import pandas as pd\n",
        "import json\n",
        "\n",
        "import io\n",
        "import re"
      ]
    },
    {
      "cell_type": "code",
      "source": [
        "url = 'https://comp.fnguide.com/SVO2/ASP/SVD_main.asp?pGB=1&gicode=A005930'\n",
        "\n",
        "request = requests.get(url)\n",
        "soup = BeautifulSoup(request.text, 'html.parser')"
      ],
      "metadata": {
        "id": "HExfIqDyXVDg"
      },
      "execution_count": 111,
      "outputs": []
    },
    {
      "cell_type": "code",
      "source": [
        "tables = soup.find_all('table')\n",
        "\n",
        "market_conditions = tables[0]"
      ],
      "metadata": {
        "id": "Bn4R-0gWaVH1"
      },
      "execution_count": 112,
      "outputs": []
    },
    {
      "cell_type": "code",
      "source": [
        "df = pd.read_html(io.StringIO(str(market_conditions)))\n",
        "original_dict = df[0].dropna().to_dict(orient='tight')\n",
        "my_list = original_dict['data']\n",
        "values_list = []\n",
        "for text in my_list:\n",
        "  first_values = text[1::2]\n",
        "  final_values = []\n",
        "  for value in first_values:\n",
        "    if '/' in value:\n",
        "      split_values = value.replace(' ', '').split('/')\n",
        "      final_values.extend(split_values)\n",
        "    else:\n",
        "      final_values.append(value)\n",
        "  values_list.append(final_values)\n",
        "values = [item for sublist in values_list for item in sublist]\n",
        "json_dict = {\n",
        "    \"종가(원)\": values[0],\n",
        "    \"전일대비(원)\": values[1],\n",
        "    \"수익률(%)\": values[2],\n",
        "    \"거래량(주))\": values[3],\n",
        "    \"최고가(52주)\": values[4],\n",
        "    \"최저가(52주)\": values[5],\n",
        "    \"거래대금(억원)\": values[6],\n",
        "    \"수익률(1M)\": values[7],\n",
        "    \"수익률(3M)\": values[8],\n",
        "    \"수익률(6M)\": values[9],\n",
        "    \"수익률(1Y)\": values[10],\n",
        "    \"외국인지분율(%)\": values[11],\n",
        "    \"시가총액(상장예정포함,억원)\": values[12],\n",
        "    \"베타(1년)\": values[13],\n",
        "    \"시가총액(보통주,억원)\": values[14],\n",
        "    \"액면가(원)\": values[15],\n",
        "    \"발행주식수(보통주)\": values[16],\n",
        "    \"발행주식수(우선주)\": values[17],\n",
        "    \"종가(NXT)\": values[18],\n",
        "    \"유동주식수(주)\": values[19],\n",
        "    \"유동비율(%)\": values[20],\n",
        "    \"거래량(NXT, 주)\": values[21],\n",
        "    \"거래대금(NXT,억원)\": values[22],\n",
        "}\n",
        "market_status = json.dumps(json_dict, ensure_ascii=False, indent=4)"
      ],
      "metadata": {
        "id": "qvldAQwDZYE_"
      },
      "execution_count": 113,
      "outputs": []
    },
    {
      "cell_type": "code",
      "source": [
        "df = pd.read_html(io.StringIO(str(tables[1])))[0]\n",
        "earning_issue = df.to_json(orient='records', force_ascii=False, indent=4)\n",
        "print(earning_issue)"
      ],
      "metadata": {
        "colab": {
          "base_uri": "https://localhost:8080/"
        },
        "id": "RExDMLoRnEnW",
        "outputId": "fd05684a-52a9-40ad-a5c8-829dfab64a9c"
      },
      "execution_count": 114,
      "outputs": [
        {
          "output_type": "stream",
          "name": "stdout",
          "text": [
            "[\n",
            "    {\n",
            "        \"잠정실적발표예정일\":\"미정\",\n",
            "        \"예상실적(영업이익, 억원)\":88501,\n",
            "        \"3개월전예상실적대비(%)\":-5.84,\n",
            "        \"전년동기대비(%)\":-3.63\n",
            "    }\n",
            "]\n"
          ]
        }
      ]
    },
    {
      "cell_type": "code",
      "source": [
        "df = pd.read_html(io.StringIO(str(tables[2])))[0]\n",
        "df.set_index('운용사명', inplace=True)\n",
        "df.to_csv('005930_holdings_status.csv')"
      ],
      "metadata": {
        "id": "WVWpKj5DUBVz"
      },
      "execution_count": 115,
      "outputs": []
    },
    {
      "cell_type": "code",
      "source": [
        "df = pd.read_html(io.StringIO(str(tables[3])))[0]\n",
        "df.dropna(inplace=True)\n",
        "df.set_index('항목', inplace=True)\n",
        "df.to_csv('005930_governance.csv')"
      ],
      "metadata": {
        "id": "uK7qIrJSXMvc"
      },
      "execution_count": 116,
      "outputs": []
    },
    {
      "cell_type": "code",
      "source": [
        "df = pd.read_html(io.StringIO(str(tables[4])))[0]\n",
        "df = df.fillna(0)\n",
        "df.set_index('주주구분', inplace=True)\n",
        "df.to_csv('005930_shareholders.csv')"
      ],
      "metadata": {
        "id": "exQpzV46dXCu"
      },
      "execution_count": 131,
      "outputs": []
    },
    {
      "cell_type": "code",
      "source": [
        "# tables[5] (기업어음)은 데이터 부족으로 건너뜀\n",
        "df = pd.read_html(io.StringIO(str(tables[6])))[0]\n",
        "bond = df.to_json(orient='records', force_ascii=False, indent=4)\n",
        "print(bond)"
      ],
      "metadata": {
        "colab": {
          "base_uri": "https://localhost:8080/"
        },
        "id": "1rlCyci6eOLr",
        "outputId": "692c14d2-81be-4a4e-e402-c7cac5131f43"
      },
      "execution_count": 121,
      "outputs": [
        {
          "output_type": "stream",
          "name": "stdout",
          "text": [
            "[\n",
            "    {\n",
            "        \"KIS\":\"AAA [2004\\/05\\/25]\",\n",
            "        \"KR\":\"AAA [2004\\/06\\/17]\",\n",
            "        \"NICE\":\"AAA [2004\\/06\\/01]\"\n",
            "    }\n",
            "]\n"
          ]
        }
      ]
    },
    {
      "cell_type": "code",
      "source": [
        "df = pd.read_html(io.StringIO(str(tables[7])))[0]\n",
        "analysis = df.to_json(orient='records', force_ascii=False, indent=4)\n",
        "print(analysis)"
      ],
      "metadata": {
        "colab": {
          "base_uri": "https://localhost:8080/"
        },
        "id": "nZxYNVjlfAEQ",
        "outputId": "c8ce92c7-14bb-424b-df1b-f99181b11cb9"
      },
      "execution_count": 124,
      "outputs": [
        {
          "output_type": "stream",
          "name": "stdout",
          "text": [
            "[\n",
            "    {\n",
            "        \"투자의견\":4.0,\n",
            "        \"목표주가\":84958,\n",
            "        \"EPS\":4355,\n",
            "        \"PER\":16.9,\n",
            "        \"추정기관수\":24\n",
            "    }\n",
            "]\n"
          ]
        }
      ]
    },
    {
      "cell_type": "code",
      "source": [
        "df = pd.read_html(io.StringIO(str(tables[8])))[0]\n",
        "df.set_index('구분', inplace=True)\n",
        "df.to_csv('005930_industry_comparison.csv')"
      ],
      "metadata": {
        "colab": {
          "base_uri": "https://localhost:8080/"
        },
        "id": "iKza613RfcZf",
        "outputId": "7aa637e4-a6d5-4d1a-9bd0-9d9727abddfb"
      },
      "execution_count": 126,
      "outputs": [
        {
          "output_type": "stream",
          "name": "stdout",
          "text": [
            "          구분        삼성전자   코스피 전기·전자        KOSPI\n",
            "0       시가총액  4345014.00  9534432.00  27489140.00\n",
            "1        매출액  3008709.00  6133815.00  33576415.00\n",
            "2       영업이익   327260.00   627085.00   2495513.00\n",
            "3     EPS(원)     4950.00    22627.20      7000.80\n",
            "4        PER       10.75       11.92        11.29\n",
            "5  EV/EBITDA        4.84        5.72         6.44\n",
            "6        ROE        9.03        9.81         7.48\n",
            "7      배당수익률        2.72        1.75         2.28\n",
            "8     베타(1년)        1.23        1.22         1.00\n"
          ]
        }
      ]
    },
    {
      "cell_type": "code",
      "source": [
        "# tables[9]은 tables[8]과 동일한 테이블\n",
        "df = pd.read_html(io.StringIO(str(tables[10])))[0]\n",
        "df = df.fillna('없음')\n",
        "df['IFRS'] = df['IFRS(연결)']\n",
        "df.set_index('IFRS', inplace=True)\n",
        "df_annual = df['Annual']\n",
        "df_netquarter = df['Net Quarter']\n",
        "print(df_annual, df_netquarter)"
      ],
      "metadata": {
        "colab": {
          "base_uri": "https://localhost:8080/"
        },
        "id": "t5rj2xZNf4IC",
        "outputId": "94d2cf0a-7c09-443b-e104-bf677a2d2af0"
      },
      "execution_count": 150,
      "outputs": [
        {
          "output_type": "stream",
          "name": "stdout",
          "text": [
            "               2022/12     2023/12     2024/12 2025/12(E)\n",
            "IFRS                                                     \n",
            "매출액         3022314.00  2589355.00  3008709.00  3156607.0\n",
            "영업이익         433766.00    65670.00   327260.00   288724.0\n",
            "영업이익(발표기준)   433766.00    65670.00   327260.00         없음\n",
            "당기순이익        556541.00   154871.00   344514.00   301945.0\n",
            "지배주주순이익      547300.00   144734.00   336214.00   293663.0\n",
            "비지배주주순이익       9241.00    10137.00     8300.00         없음\n",
            "자산총계        4484245.00  4559060.00  5145319.00  5317587.0\n",
            "부채총계         936749.00   922281.00  1123399.00  1088080.0\n",
            "자본총계        3547496.00  3636779.00  4021921.00  4229506.0\n",
            "지배주주지분      3451861.00  3532338.00  3916876.00  4128245.0\n",
            "비지배주주지분       95635.00   104441.00   105045.00   101262.0\n",
            "자본금            8975.00     8975.00     8975.00     8966.0\n",
            "부채비율             26.41       25.36       27.93      25.73\n",
            "유보율           38360.25    39256.91    43743.26         없음\n",
            "영업이익률            14.35        2.54       10.88       9.15\n",
            "지배주주순이익률         18.11        5.59       11.17        9.3\n",
            "ROA              12.72        3.43        7.10       5.77\n",
            "ROE              17.07        4.14        9.03        7.3\n",
            "EPS(원)         8057.00     2131.00     4950.00     4355.0\n",
            "BPS(원)        50817.00    52002.00    57930.00    61559.0\n",
            "DPS(원)         1444.00     1444.00     1446.00     1524.0\n",
            "PER               6.86       36.84       10.75      16.85\n",
            "PBR               1.09        1.51        0.92       1.19\n",
            "발행주식수       5969783.00  5969783.00  5969783.00         없음\n",
            "배당수익률             2.61        1.84        2.72         없음               2024/12    2025/03    2025/06 2025/09(E)\n",
            "IFRS                                                  \n",
            "매출액          757883.0   791405.0   745663.0   822960.0\n",
            "영업이익          64927.0    66853.0    46761.0    88501.0\n",
            "영업이익(발표기준)    64927.0    66853.0    46761.0         없음\n",
            "당기순이익         77544.0    82229.0    51164.0    82155.0\n",
            "지배주주순이익       75761.0    80284.0    49340.0    83713.0\n",
            "비지배주주순이익       1783.0     1945.0     1824.0         없음\n",
            "자산총계        5145319.0  5163767.0  5048752.0         없음\n",
            "부채총계        1123399.0  1097625.0  1053132.0         없음\n",
            "자본총계        4021921.0  4066143.0  3995620.0         없음\n",
            "지배주주지분      3916876.0  3958611.0  3886941.0         없음\n",
            "비지배주주지분      105045.0   107532.0   108679.0         없음\n",
            "자본금            8975.0     8975.0     8975.0         없음\n",
            "부채비율            27.93      26.99      26.36         없음\n",
            "유보율          43743.26   44197.88   43513.36         없음\n",
            "영업이익률            8.57       8.45       6.27      10.75\n",
            "지배주주순이익률         10.0      10.14       6.62      10.17\n",
            "ROA              6.17       6.38       4.01       6.51\n",
            "ROE              7.89       8.16       5.03       8.61\n",
            "EPS(원)         1115.0     1186.0      733.0     1241.0\n",
            "BPS(원)        57930.0    59027.0    58114.0         없음\n",
            "DPS(원)          363.0      365.0      367.0         없음\n",
            "PER                없음         없음         없음         없음\n",
            "PBR              0.92       0.98       1.03         없음\n",
            "발행주식수       5969783.0  5919638.0  5919638.0         없음\n",
            "배당수익률            0.68       0.63       0.61         없음\n"
          ]
        }
      ]
    }
  ]
}