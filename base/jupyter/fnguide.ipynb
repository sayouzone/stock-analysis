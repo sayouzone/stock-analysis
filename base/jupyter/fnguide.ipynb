{
  "nbformat": 4,
  "nbformat_minor": 0,
  "metadata": {
    "colab": {
      "provenance": []
    },
    "kernelspec": {
      "name": "python3",
      "display_name": "Python 3"
    },
    "language_info": {
      "name": "python"
    }
  },
  "cells": [
    {
      "cell_type": "code",
      "execution_count": 81,
      "metadata": {
        "id": "zEv6kvdVWYS4"
      },
      "outputs": [],
      "source": [
        "import requests\n",
        "from bs4 import BeautifulSoup\n",
        "\n",
        "import pandas as pd\n",
        "import json\n",
        "\n",
        "import io\n",
        "import re"
      ]
    },
    {
      "cell_type": "code",
      "source": [
        "url = 'https://comp.fnguide.com/SVO2/ASP/SVD_main.asp?pGB=1&gicode=A005930'\n",
        "\n",
        "request = requests.get(url)\n",
        "soup = BeautifulSoup(request.text, 'html.parser')"
      ],
      "metadata": {
        "id": "HExfIqDyXVDg"
      },
      "execution_count": 82,
      "outputs": []
    },
    {
      "cell_type": "code",
      "source": [
        "tables = soup.find_all('table')\n",
        "\n",
        "market_conditions = tables[0]"
      ],
      "metadata": {
        "id": "Bn4R-0gWaVH1"
      },
      "execution_count": 83,
      "outputs": []
    },
    {
      "cell_type": "code",
      "source": [
        "df = pd.read_html(io.StringIO(str(market_conditions)))\n",
        "original_dict = df[0].dropna().to_dict(orient='tight')\n",
        "my_list = original_dict['data']\n",
        "values_list = []\n",
        "for text in my_list:\n",
        "  first_values = text[1::2]\n",
        "  final_values = []\n",
        "  for value in first_values:\n",
        "    if '/' in value:\n",
        "      split_values = value.replace(' ', '').split('/')\n",
        "      final_values.extend(split_values)\n",
        "    else:\n",
        "      final_values.append(value)\n",
        "  values_list.append(final_values)\n",
        "values = [item for sublist in values_list for item in sublist]\n",
        "json_dict = {\n",
        "    \"종가(원)\": values[0],\n",
        "    \"전일대비(원)\": values[1],\n",
        "    \"수익률(%)\": values[2],\n",
        "    \"거래량(주))\": values[3],\n",
        "    \"최고가(52주)\": values[4],\n",
        "    \"최저가(52주)\": values[5],\n",
        "    \"거래대금(억원)\": values[6],\n",
        "    \"수익률(1M)\": values[7],\n",
        "    \"수익률(3M)\": values[8],\n",
        "    \"수익률(6M)\": values[9],\n",
        "    \"수익률(1Y)\": values[10],\n",
        "    \"외국인지분율(%)\": values[11],\n",
        "    \"시가총액(상장예정포함,억원)\": values[12],\n",
        "    \"베타(1년)\": values[13],\n",
        "    \"시가총액(보통주,억원)\": values[14],\n",
        "    \"액면가(원)\": values[15],\n",
        "    \"발행주식수(보통주)\": values[16],\n",
        "    \"발행주식수(우선주)\": values[17],\n",
        "    \"종가(NXT)\": values[18],\n",
        "    \"유동주식수(주)\": values[19],\n",
        "    \"유동비율(%)\": values[20],\n",
        "    \"거래량(NXT, 주)\": values[21],\n",
        "    \"거래대금(NXT,억원)\": values[22],\n",
        "}\n",
        "market_status = json.dumps(json_dict, ensure_ascii=False, indent=4)"
      ],
      "metadata": {
        "id": "qvldAQwDZYE_"
      },
      "execution_count": 87,
      "outputs": []
    },
    {
      "cell_type": "code",
      "source": [
        "df = pd.read_html(io.StringIO(str(tables[1])))[0]\n",
        "earning_issue = df.to_json(orient='records', force_ascii=False, indent=4)\n",
        "print(earning_issue)"
      ],
      "metadata": {
        "colab": {
          "base_uri": "https://localhost:8080/"
        },
        "id": "RExDMLoRnEnW",
        "outputId": "b354d633-d449-44e9-eae6-fc0e9fb35141"
      },
      "execution_count": 94,
      "outputs": [
        {
          "output_type": "stream",
          "name": "stdout",
          "text": [
            "[\n",
            "    {\n",
            "        \"잠정실적발표예정일\":\"미정\",\n",
            "        \"예상실적(영업이익, 억원)\":88501,\n",
            "        \"3개월전예상실적대비(%)\":-5.84,\n",
            "        \"전년동기대비(%)\":-3.63\n",
            "    }\n",
            "]\n"
          ]
        }
      ]
    },
    {
      "cell_type": "code",
      "source": [
        "df = pd.read_html(io.StringIO(str(tables[2])))[0]\n",
        "df.set_index('운용사명', inplace=True)\n",
        "holdings_status = df.to_csv('005930_holdings_status.csv')"
      ],
      "metadata": {
        "id": "WVWpKj5DUBVz"
      },
      "execution_count": 104,
      "outputs": []
    },
    {
      "cell_type": "code",
      "source": [
        "df = pd.read_html(io.StringIO(str(tables[3])))[0]\n",
        "df.dropna(inplace=True)\n",
        "df.set_index('항목', inplace=True)"
      ],
      "metadata": {
        "colab": {
          "base_uri": "https://localhost:8080/"
        },
        "id": "uK7qIrJSXMvc",
        "outputId": "fce4b576-c817-4530-cd9c-d6612ea7fe23"
      },
      "execution_count": 109,
      "outputs": [
        {
          "output_type": "stream",
          "name": "stdout",
          "text": [
            "                                        보통주    지분율       최종변동일\n",
            "항목                                                            \n",
            "삼성생명보험(외 15인)                   119256.6388  20.15  2025/09/01\n",
            "국민연금공단                           45863.7667   7.75  2022/08/16\n",
            "BlackRock Fund Advisors(외 15인)   30039.1061   5.07  2019/01/28\n",
            "자사주                               8331.3157   1.41  2025/09/10 float64\n"
          ]
        }
      ]
    }
  ]
}