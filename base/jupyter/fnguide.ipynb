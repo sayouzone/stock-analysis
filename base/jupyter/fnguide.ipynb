{
  "nbformat": 4,
  "nbformat_minor": 0,
  "metadata": {
    "colab": {
      "provenance": []
    },
    "kernelspec": {
      "name": "python3",
      "display_name": "Python 3"
    },
    "language_info": {
      "name": "python"
    }
  },
  "cells": [
    {
      "cell_type": "code",
      "execution_count": 27,
      "metadata": {
        "id": "zEv6kvdVWYS4"
      },
      "outputs": [],
      "source": [
        "import requests\n",
        "from bs4 import BeautifulSoup\n",
        "import pandas as pd\n",
        "\n",
        "import json\n",
        "from google.cloud import storage\n",
        "from google.colab import auth\n",
        "\n",
        "auth.authenticate_user()\n",
        "storage_client = storage.Client(project='sayonzone-ai')\n",
        "bucket_name = 'sayouzone-ai-stocks'\n",
        "bucket = storage_client.get_bucket(bucket_name)\n",
        "\n",
        "import io\n",
        "import re"
      ]
    },
    {
      "cell_type": "code",
      "source": [
        "url = 'https://comp.fnguide.com/SVO2/ASP/SVD_main.asp?pGB=1&gicode=A005930'\n",
        "\n",
        "request = requests.get(url)\n",
        "soup = BeautifulSoup(request.text, 'html.parser')"
      ],
      "metadata": {
        "id": "HExfIqDyXVDg"
      },
      "execution_count": 28,
      "outputs": []
    },
    {
      "cell_type": "code",
      "source": [
        "tables = soup.find_all('table')\n",
        "\n",
        "market_conditions = tables[0]"
      ],
      "metadata": {
        "id": "Bn4R-0gWaVH1"
      },
      "execution_count": 29,
      "outputs": []
    },
    {
      "cell_type": "code",
      "source": [
        "df = pd.read_html(io.StringIO(str(market_conditions)))\n",
        "original_dict = df[0].dropna().to_dict(orient='tight')\n",
        "my_list = original_dict['data']\n",
        "values_list = []\n",
        "for text in my_list:\n",
        "  first_values = text[1::2]\n",
        "  final_values = []\n",
        "  for value in first_values:\n",
        "    if '/' in value:\n",
        "      split_values = value.replace(' ', '').split('/')\n",
        "      final_values.extend(split_values)\n",
        "    else:\n",
        "      final_values.append(value)\n",
        "  values_list.append(final_values)\n",
        "values = [item for sublist in values_list for item in sublist]\n",
        "json_dict = {\n",
        "    \"종가(원)\": values[0],\n",
        "    \"전일대비(원)\": values[1],\n",
        "    \"수익률(%)\": values[2],\n",
        "    \"거래량(주))\": values[3],\n",
        "    \"최고가(52주)\": values[4],\n",
        "    \"최저가(52주)\": values[5],\n",
        "    \"거래대금(억원)\": values[6],\n",
        "    \"수익률(1M)\": values[7],\n",
        "    \"수익률(3M)\": values[8],\n",
        "    \"수익률(6M)\": values[9],\n",
        "    \"수익률(1Y)\": values[10],\n",
        "    \"외국인지분율(%)\": values[11],\n",
        "    \"시가총액(상장예정포함,억원)\": values[12],\n",
        "    \"베타(1년)\": values[13],\n",
        "    \"시가총액(보통주,억원)\": values[14],\n",
        "    \"액면가(원)\": values[15],\n",
        "    \"발행주식수(보통주)\": values[16],\n",
        "    \"발행주식수(우선주)\": values[17],\n",
        "    \"종가(NXT)\": values[18],\n",
        "    \"유동주식수(주)\": values[19],\n",
        "    \"유동비율(%)\": values[20],\n",
        "    \"거래량(NXT, 주)\": values[21],\n",
        "    \"거래대금(NXT,억원)\": values[22],\n",
        "}\n",
        "blob = bucket.blob('FnGuide/005930/005930_market_status_20250915.json')\n",
        "market_status = json.dumps(json_dict, ensure_ascii=False, indent=4)\n",
        "blob.upload_from_string(market_status, content_type='application/json')"
      ],
      "metadata": {
        "id": "qvldAQwDZYE_"
      },
      "execution_count": 30,
      "outputs": []
    },
    {
      "cell_type": "code",
      "source": [
        "df = pd.read_html(io.StringIO(str(tables[1])))[0]\n",
        "blob = bucket.blob('FnGuide/005930/005930_earning_issue_20250915.json')\n",
        "earning_issue = df.to_json(orient='records', force_ascii=False, indent=4)\n",
        "blob.upload_from_string(earning_issue, content_type='application/json')"
      ],
      "metadata": {
        "id": "RExDMLoRnEnW"
      },
      "execution_count": 31,
      "outputs": []
    },
    {
      "cell_type": "code",
      "source": [
        "df = pd.read_html(io.StringIO(str(tables[2])))[0]\n",
        "df.set_index('운용사명', inplace=True)\n",
        "file_name = '005930_holdings_status.csv'\n",
        "gcs_path = f'gs://{bucket_name}/FnGuide/005930/{file_name}'\n",
        "df.to_csv(gcs_path, index=False, encoding='utf-8-sig')"
      ],
      "metadata": {
        "id": "WVWpKj5DUBVz"
      },
      "execution_count": 32,
      "outputs": []
    },
    {
      "cell_type": "code",
      "source": [
        "df = pd.read_html(io.StringIO(str(tables[3])))[0]\n",
        "df.dropna(inplace=True)\n",
        "df.set_index('항목', inplace=True)\n",
        "file_name = '005930_governance.csv'\n",
        "gcs_path = f'gs://{bucket_name}/FnGuide/005930/{file_name}'\n",
        "df.to_csv(gcs_path, index=False, encoding='utf-8-sig')"
      ],
      "metadata": {
        "id": "uK7qIrJSXMvc"
      },
      "execution_count": 33,
      "outputs": []
    },
    {
      "cell_type": "code",
      "source": [
        "df = pd.read_html(io.StringIO(str(tables[4])))[0]\n",
        "df = df.fillna(0)\n",
        "df.set_index('주주구분', inplace=True)\n",
        "file_name = '005930_shareholders.csv'\n",
        "gcs_path = f'gs://{bucket_name}/FnGuide/005930/{file_name}'\n",
        "df.to_csv(gcs_path, index=False, encoding='utf-8-sig')"
      ],
      "metadata": {
        "id": "exQpzV46dXCu"
      },
      "execution_count": 34,
      "outputs": []
    },
    {
      "cell_type": "code",
      "source": [
        "# tables[5] (기업어음)은 데이터 부족으로 건너뜀\n",
        "df = pd.read_html(io.StringIO(str(tables[6])))[0].T\n",
        "df['bond_rating'] = df[0].str[:3]\n",
        "df['rating_date'] = df[0].str[3:].apply(lambda x: re.sub(r'[^0-9]', '', x))\n",
        "df.drop(columns=[0], inplace=True)\n",
        "file_name = '005930_bond_rating.csv'\n",
        "gcs_path = f'gs://{bucket_name}/FnGuide/005930/{file_name}'\n",
        "df.to_csv(gcs_path, index=False, encoding='utf-8-sig')"
      ],
      "metadata": {
        "id": "1rlCyci6eOLr"
      },
      "execution_count": 35,
      "outputs": []
    },
    {
      "cell_type": "code",
      "source": [
        "df = pd.read_html(io.StringIO(str(tables[7])))[0]\n",
        "analysis = df.to_json(orient='records', force_ascii=False, indent=4)\n",
        "blob = bucket.blob('FnGuide/005930/005930_analysis_20250915.json')\n",
        "blob.upload_from_string(analysis, content_type='application/json')"
      ],
      "metadata": {
        "id": "nZxYNVjlfAEQ"
      },
      "execution_count": 36,
      "outputs": []
    },
    {
      "cell_type": "code",
      "source": [
        "df = pd.read_html(io.StringIO(str(tables[8])))[0]\n",
        "df.set_index('구분', inplace=True)\n",
        "file_name = '005930_industry_comparison.csv'\n",
        "gcs_path = f'gs://{bucket_name}/FnGuide/005930/{file_name}'\n",
        "df.to_csv(gcs_path, index=False, encoding='utf-8-sig')"
      ],
      "metadata": {
        "id": "iKza613RfcZf"
      },
      "execution_count": 37,
      "outputs": []
    },
    {
      "cell_type": "code",
      "source": [
        "# tables[9]은 tables[8]과 동일한 테이블\n",
        "df = pd.read_html(io.StringIO(str(tables[10])))[0]\n",
        "df = df.fillna('없음')\n",
        "df['IFRS'] = df['IFRS(연결)']\n",
        "df.set_index('IFRS', inplace=True)\n",
        "df_annual = df['Annual']\n",
        "df_netquarter = df['Net Quarter']"
      ],
      "metadata": {
        "id": "t5rj2xZNf4IC"
      },
      "execution_count": 38,
      "outputs": []
    },
    {
      "cell_type": "code",
      "source": [
        "df = pd.read_html(io.StringIO(str(tables[11])))[0]\n",
        "df = df.fillna('없음')\n",
        "df['IFRS'] = df['IFRS(연결)']\n",
        "df.set_index('IFRS', inplace=True)\n",
        "df_annual = df['Annual']\n",
        "file_name = '005930_financialhighlight_annual.csv'\n",
        "gcs_path = f'gs://{bucket_name}/FnGuide/005930/{file_name}'\n",
        "df_annual.to_csv(gcs_path, index=False, encoding='utf-8-sig')"
      ],
      "metadata": {
        "id": "VfHEqy9e4xxM"
      },
      "execution_count": 39,
      "outputs": []
    },
    {
      "cell_type": "code",
      "source": [
        "df = pd.read_html(io.StringIO(str(tables[12])))[0]\n",
        "df = df.fillna('없음')\n",
        "df['IFRS'] = df['IFRS(연결)']\n",
        "df.set_index('IFRS', inplace=True)\n",
        "df_netquarter = df['Net Quarter']\n",
        "file_name = '005930_financialhighlight_netquarter.csv'\n",
        "gcs_path = f'gs://{bucket_name}/FnGuide/005930/{file_name}'\n",
        "df_netquarter.to_csv(gcs_path, index=False, encoding='utf-8-sig')"
      ],
      "metadata": {
        "id": "N4t6UvHi5RoF"
      },
      "execution_count": 40,
      "outputs": []
    }
  ]
}